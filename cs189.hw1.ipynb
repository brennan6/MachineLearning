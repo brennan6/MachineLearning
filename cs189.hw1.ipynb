{
 "cells": [
  {
   "cell_type": "code",
   "execution_count": 3,
   "metadata": {
    "scrolled": true
   },
   "outputs": [
    {
     "name": "stdout",
     "output_type": "stream",
     "text": [
      "\n",
      "loaded mnist data!\n",
      "test_data (10000, 784)\n",
      "training_data (60000, 784)\n",
      "training_labels (60000, 1)\n",
      "\n",
      "loaded spam data!\n",
      "test_data (5857, 32)\n",
      "training_data (5172, 32)\n",
      "training_labels (5172, 1)\n",
      "\n",
      "loaded cifar10 data!\n",
      "test_data (10000, 3072)\n",
      "training_data (50000, 3072)\n",
      "training_labels (50000, 1)\n"
     ]
    }
   ],
   "source": [
    "#1 Python Configuration and Data Loading\n",
    "import sys\n",
    "if sys.version_info[0] < 3:\n",
    "    raise Exception(\"Python 3 not detected.\")\n",
    "    \n",
    "import numpy as np\n",
    "import matplotlib.pyplot as plt\n",
    "import pandas as pd\n",
    "from sklearn import svm\n",
    "from scipy import io\n",
    "from sklearn.metrics import accuracy_score\n",
    "\n",
    "for data_name in [\"mnist\", \"spam\", \"cifar10\"]:\n",
    "    data = io.loadmat(\"data/%s_data.mat\" % data_name)\n",
    "    print(\"\\nloaded %s data!\" % data_name)\n",
    "    fields = \"test_data\", \"training_data\", \"training_labels\"\n",
    "    for field in fields:\n",
    "        print(field, data[field].shape)"
   ]
  },
  {
   "cell_type": "code",
   "execution_count": 5,
   "metadata": {},
   "outputs": [
    {
     "name": "stdout",
     "output_type": "stream",
     "text": [
      "Mnist training data length: 50000\n",
      "Mnist validation data length: 10000\n",
      "Mnist training labels length: 50000\n",
      "Mnist validation labels length: 10000\n",
      "Spam training data length: 4138\n",
      "Spam validation data length: 1034\n",
      "Spam training labels length: 4138\n",
      "Spam validation labels length: 1034\n",
      "Cifar10 training data length: 45000\n",
      "Cifar10 validation data length: 5000\n",
      "Cifar10 training labels length: 45000\n",
      "Cifar10 validation labels length: 5000\n"
     ]
    }
   ],
   "source": [
    "#2 Data Partitioning\n",
    "#actual data for split\n",
    "mnist_data = io.loadmat(\"data/mnist_data.mat\")\n",
    "spam_data = io.loadmat(\"data/spam_data.mat\")\n",
    "cifar10_data = io.loadmat(\"data/cifar10_data.mat\")\n",
    "\n",
    "#first shuffling\n",
    "def shuffle(data):\n",
    "    new_data = []\n",
    "    for i in range(len(data['training_labels'])):\n",
    "        elem = np.array((data['training_labels'][i], data['training_data'][i])) \n",
    "        new_data.append(elem)\n",
    "    #for arr in data[\"training_data\"]:\n",
    "    np.random.shuffle(new_data)\n",
    "    return new_data\n",
    "\n",
    "np.random.seed(42)\n",
    "mnist_data_shuff = shuffle(mnist_data)\n",
    "spam_data_shuff = shuffle(spam_data)\n",
    "cifar10_data_shuff = shuffle(cifar10_data)\n",
    "\n",
    "#mnist 10000 as validation set of 60000\n",
    "val_num_mnist = 10000\n",
    "validation_mnist = mnist_data_shuff[0:val_num_mnist]\n",
    "training_mnist = mnist_data_shuff[val_num_mnist:]\n",
    "mnist_data['training_data'] =  [elem[1] for elem in training_mnist]\n",
    "mnist_data['validation_data'] = [elem[1] for elem in validation_mnist]\n",
    "mnist_data['training_labels'] = [elem[0] for elem in training_mnist]\n",
    "mnist_data['validation_labels'] = [elem[0] for elem in validation_mnist]\n",
    "\n",
    "#set aside 20% of the training data as a validation set\n",
    "ratio = .2\n",
    "val_num_spam = int(ratio*len(spam_data_shuff))\n",
    "validation_spam = spam_data_shuff[0:val_num_spam]\n",
    "training_spam = spam_data_shuff[val_num_spam:]\n",
    "spam_data['training_dataMod'] = [elem[1] for elem in training_spam]\n",
    "spam_data['validation_dataMod'] = [elem[1] for elem in validation_spam]\n",
    "spam_data['training_labelsMod'] = [elem[0] for elem in training_spam]\n",
    "spam_data['validation_labelsMod'] = [elem[0] for elem in validation_spam]\n",
    "\n",
    "#set aside 5000 training images as a validation set\n",
    "val_num_cifar10 = 5000\n",
    "validation_cifar10 = cifar10_data_shuff[0:val_num_cifar10]\n",
    "training_cifar10 = cifar10_data_shuff[val_num_cifar10:]\n",
    "cifar10_data['training_data'] = [elem[1] for elem in training_cifar10]\n",
    "cifar10_data['validation_data'] = [elem[1] for elem in validation_cifar10]\n",
    "cifar10_data['training_labels'] = [elem[0] for elem in training_cifar10]\n",
    "cifar10_data['validation_labels'] = [elem[0] for elem in validation_cifar10]\n",
    "\n",
    "print('Mnist training data length: '+ str(len(mnist_data['training_data'])))\n",
    "print('Mnist validation data length: '+ str(len(mnist_data['validation_data'])))\n",
    "print('Mnist training labels length: '+ str(len(mnist_data['training_labels'])))\n",
    "print('Mnist validation labels length: '+ str(len(mnist_data['validation_labels'])))\n",
    "print('Spam training data length: '+ str(len(spam_data['training_dataMod'])))\n",
    "print('Spam validation data length: '+ str(len(spam_data['validation_dataMod'])))\n",
    "print('Spam training labels length: '+ str(len(spam_data['training_labelsMod'])))\n",
    "print('Spam validation labels length: '+ str(len(spam_data['validation_labelsMod'])))\n",
    "print('Cifar10 training data length: '+ str(len(cifar10_data['training_data'])))\n",
    "print('Cifar10 validation data length: ' + str(len(cifar10_data['validation_data'])))\n",
    "print('Cifar10 training labels length: '+ str(len(cifar10_data['training_labels'])))\n",
    "print('Cifar10 validation labels length: '+ str(len(cifar10_data['validation_labels'])))\n",
    "\n",
    "#len(mnist_data['validation_data'])"
   ]
  },
  {
   "cell_type": "code",
   "execution_count": 29,
   "metadata": {},
   "outputs": [],
   "source": [
    "#simple test case for shuffle\n",
    "dicti = {}\n",
    "dicti['training_labels'] = np.array([[2],[1],[3]])\n",
    "dicti['training_data'] = np.array([[2,4,3],[3,1,1],[6,8,5]])\n",
    "pi = shuffle(dicti)"
   ]
  },
  {
   "cell_type": "code",
   "execution_count": 32,
   "metadata": {},
   "outputs": [
    {
     "name": "stderr",
     "output_type": "stream",
     "text": [
      "/Library/Frameworks/Python.framework/Versions/3.7/lib/python3.7/site-packages/sklearn/utils/validation.py:761: DataConversionWarning: A column-vector y was passed when a 1d array was expected. Please change the shape of y to (n_samples, ), for example using ravel().\n",
      "  y = column_or_1d(y, warn=True)\n"
     ]
    },
    {
     "name": "stdout",
     "output_type": "stream",
     "text": [
      "Training error 100: 0.69646\n",
      "Validation error 100: 0.6908\n"
     ]
    },
    {
     "name": "stderr",
     "output_type": "stream",
     "text": [
      "/Library/Frameworks/Python.framework/Versions/3.7/lib/python3.7/site-packages/sklearn/utils/validation.py:761: DataConversionWarning: A column-vector y was passed when a 1d array was expected. Please change the shape of y to (n_samples, ), for example using ravel().\n",
      "  y = column_or_1d(y, warn=True)\n"
     ]
    },
    {
     "name": "stdout",
     "output_type": "stream",
     "text": [
      "Training error 200: 0.81514\n",
      "Validation error 200: 0.8101\n"
     ]
    },
    {
     "name": "stderr",
     "output_type": "stream",
     "text": [
      "/Library/Frameworks/Python.framework/Versions/3.7/lib/python3.7/site-packages/sklearn/utils/validation.py:761: DataConversionWarning: A column-vector y was passed when a 1d array was expected. Please change the shape of y to (n_samples, ), for example using ravel().\n",
      "  y = column_or_1d(y, warn=True)\n"
     ]
    },
    {
     "name": "stdout",
     "output_type": "stream",
     "text": [
      "Training error 500: 0.8658\n",
      "Validation error 500: 0.8686\n"
     ]
    },
    {
     "name": "stderr",
     "output_type": "stream",
     "text": [
      "/Library/Frameworks/Python.framework/Versions/3.7/lib/python3.7/site-packages/sklearn/utils/validation.py:761: DataConversionWarning: A column-vector y was passed when a 1d array was expected. Please change the shape of y to (n_samples, ), for example using ravel().\n",
      "  y = column_or_1d(y, warn=True)\n"
     ]
    },
    {
     "name": "stdout",
     "output_type": "stream",
     "text": [
      "Training error 1000: 0.88408\n",
      "Validation error 1000: 0.882\n"
     ]
    },
    {
     "name": "stderr",
     "output_type": "stream",
     "text": [
      "/Library/Frameworks/Python.framework/Versions/3.7/lib/python3.7/site-packages/sklearn/utils/validation.py:761: DataConversionWarning: A column-vector y was passed when a 1d array was expected. Please change the shape of y to (n_samples, ), for example using ravel().\n",
      "  y = column_or_1d(y, warn=True)\n"
     ]
    },
    {
     "name": "stdout",
     "output_type": "stream",
     "text": [
      "Training error 2000: 0.89828\n",
      "Validation error 2000: 0.8967\n"
     ]
    },
    {
     "name": "stderr",
     "output_type": "stream",
     "text": [
      "/Library/Frameworks/Python.framework/Versions/3.7/lib/python3.7/site-packages/sklearn/utils/validation.py:761: DataConversionWarning: A column-vector y was passed when a 1d array was expected. Please change the shape of y to (n_samples, ), for example using ravel().\n",
      "  y = column_or_1d(y, warn=True)\n"
     ]
    },
    {
     "name": "stdout",
     "output_type": "stream",
     "text": [
      "Training error 5000: 0.9148\n",
      "Validation error 5000: 0.9084\n"
     ]
    },
    {
     "name": "stderr",
     "output_type": "stream",
     "text": [
      "/Library/Frameworks/Python.framework/Versions/3.7/lib/python3.7/site-packages/sklearn/utils/validation.py:761: DataConversionWarning: A column-vector y was passed when a 1d array was expected. Please change the shape of y to (n_samples, ), for example using ravel().\n",
      "  y = column_or_1d(y, warn=True)\n"
     ]
    },
    {
     "name": "stdout",
     "output_type": "stream",
     "text": [
      "Training error 10000: 0.92634\n",
      "Validation error 10000: 0.9092\n"
     ]
    },
    {
     "data": {
      "image/png": "[encoded data removed]",
      "text/plain": [
       "<Figure size 432x288 with 2 Axes>"
      ]
     },
     "metadata": {
      "needs_background": "light"
     },
     "output_type": "display_data"
    }
   ],
   "source": [
    "#3 Support Vector Machines: Coding\n",
    "# a) MNIST dataset, train model with examples of 100,200,500,1000,2000,5000,10000\n",
    "train_scores = []\n",
    "valid_scores = []\n",
    "n_list = [100,200,500,1000,2000,5000,10000]\n",
    "for n in n_list:\n",
    "    train_model = svm.SVC(kernel = 'linear')\n",
    "    train_model.fit(mnist_data['training_data'][:n], mnist_data['training_labels'][:n])\n",
    "    pred_train_labels = train_model.predict(mnist_data['training_data'])\n",
    "    pred_valid_labels = train_model.predict(mnist_data['validation_data'])\n",
    "    train_score = accuracy_score(mnist_data['training_labels'], pred_train_labels)\n",
    "    valid_score = accuracy_score(mnist_data['validation_labels'], pred_valid_labels)\n",
    "    print('Training error ' + str(n) + ': '+ str(train_score))\n",
    "    print('Validation error ' + str(n) + ': ' + str(valid_score))\n",
    "    train_scores.append(train_score)\n",
    "    valid_scores.append(valid_score)\n",
    "fig, (ax1, ax2) = plt.subplots(1, 2, sharey = True)\n",
    "ax1.plot(n_list, train_scores)\n",
    "ax1.set_title('Train_scores vs. n for MNIST')\n",
    "ax2.plot(n_list, valid_scores)\n",
    "ax2.set_title('Valid_scores vs. n for MNIST');\n"
   ]
  },
  {
   "cell_type": "code",
   "execution_count": 31,
   "metadata": {},
   "outputs": [
    {
     "name": "stderr",
     "output_type": "stream",
     "text": [
      "/Library/Frameworks/Python.framework/Versions/3.7/lib/python3.7/site-packages/sklearn/utils/validation.py:761: DataConversionWarning: A column-vector y was passed when a 1d array was expected. Please change the shape of y to (n_samples, ), for example using ravel().\n",
      "  y = column_or_1d(y, warn=True)\n",
      "/Library/Frameworks/Python.framework/Versions/3.7/lib/python3.7/site-packages/sklearn/utils/validation.py:761: DataConversionWarning: A column-vector y was passed when a 1d array was expected. Please change the shape of y to (n_samples, ), for example using ravel().\n",
      "  y = column_or_1d(y, warn=True)\n",
      "/Library/Frameworks/Python.framework/Versions/3.7/lib/python3.7/site-packages/sklearn/utils/validation.py:761: DataConversionWarning: A column-vector y was passed when a 1d array was expected. Please change the shape of y to (n_samples, ), for example using ravel().\n",
      "  y = column_or_1d(y, warn=True)\n",
      "/Library/Frameworks/Python.framework/Versions/3.7/lib/python3.7/site-packages/sklearn/utils/validation.py:761: DataConversionWarning: A column-vector y was passed when a 1d array was expected. Please change the shape of y to (n_samples, ), for example using ravel().\n",
      "  y = column_or_1d(y, warn=True)\n"
     ]
    },
    {
     "name": "stdout",
     "output_type": "stream",
     "text": [
      "Training error 100: 0.7796036732721121\n",
      "Validation error 100: 0.7775628626692457\n",
      "Training error 200: 0.7841952634122764\n",
      "Validation error 200: 0.7862669245647969\n",
      "Training error 500: 0.7950700821652973\n",
      "Validation error 500: 0.7959381044487428\n",
      "Training error 1000: 0.7979700338327694\n",
      "Validation error 1000: 0.7959381044487428\n"
     ]
    },
    {
     "name": "stderr",
     "output_type": "stream",
     "text": [
      "/Library/Frameworks/Python.framework/Versions/3.7/lib/python3.7/site-packages/sklearn/utils/validation.py:761: DataConversionWarning: A column-vector y was passed when a 1d array was expected. Please change the shape of y to (n_samples, ), for example using ravel().\n",
      "  y = column_or_1d(y, warn=True)\n"
     ]
    },
    {
     "name": "stdout",
     "output_type": "stream",
     "text": [
      "Training error 2000: 0.8013533107781537\n",
      "Validation error 2000: 0.7988394584139265\n"
     ]
    },
    {
     "name": "stderr",
     "output_type": "stream",
     "text": [
      "/Library/Frameworks/Python.framework/Versions/3.7/lib/python3.7/site-packages/sklearn/utils/validation.py:761: DataConversionWarning: A column-vector y was passed when a 1d array was expected. Please change the shape of y to (n_samples, ), for example using ravel().\n",
      "  y = column_or_1d(y, warn=True)\n"
     ]
    },
    {
     "name": "stdout",
     "output_type": "stream",
     "text": [
      "Training error 4138: 0.8011116481391977\n",
      "Validation error 4138: 0.7978723404255319\n"
     ]
    },
    {
     "data": {
      "image/png": "[encoded data removed]",
      "text/plain": [
       "<Figure size 432x288 with 2 Axes>"
      ]
     },
     "metadata": {
      "needs_background": "light"
     },
     "output_type": "display_data"
    }
   ],
   "source": [
    "# b) spam dataset, use the provided frequencies as frequencies w/ training ex: 100,200,500,1000,2000,all\n",
    "train_scores = []\n",
    "valid_scores = []\n",
    "n_list = [100, 200, 500, 1000, 2000, 4138]\n",
    "for n in n_list:\n",
    "    train_model = svm.SVC(kernel = 'linear')\n",
    "    train_model.fit(spam_data['training_dataMod'][:n], spam_data['training_labelsMod'][:n])\n",
    "    pred_train_labels = train_model.predict(spam_data['training_dataMod'])\n",
    "    pred_valid_labels = train_model.predict(spam_data['validation_dataMod'])\n",
    "    train_score = accuracy_score(spam_data['training_labelsMod'], pred_train_labels)\n",
    "    valid_score = accuracy_score(spam_data['validation_labelsMod'], pred_valid_labels)\n",
    "    print('Training error ' + str(n) + ': '+ str(train_score))\n",
    "    print('Validation error ' + str(n) + ': ' + str(valid_score))\n",
    "    train_scores.append(train_score)\n",
    "    valid_scores.append(valid_score)\n",
    "fig, (ax1, ax2) = plt.subplots(1, 2, sharey = True)\n",
    "ax1.plot(n_list, train_scores)\n",
    "ax1.set_title('Train_scores vs. n for Spam')\n",
    "ax2.plot(n_list, valid_scores)\n",
    "ax2.set_title('Valid_scores vs. n for Spam');"
   ]
  },
  {
   "cell_type": "code",
   "execution_count": 33,
   "metadata": {},
   "outputs": [
    {
     "name": "stderr",
     "output_type": "stream",
     "text": [
      "/Library/Frameworks/Python.framework/Versions/3.7/lib/python3.7/site-packages/sklearn/utils/validation.py:761: DataConversionWarning: A column-vector y was passed when a 1d array was expected. Please change the shape of y to (n_samples, ), for example using ravel().\n",
      "  y = column_or_1d(y, warn=True)\n"
     ]
    },
    {
     "name": "stdout",
     "output_type": "stream",
     "text": [
      "Training error 100: 0.2164888888888889\n",
      "Validation error 100: 0.2178\n"
     ]
    },
    {
     "name": "stderr",
     "output_type": "stream",
     "text": [
      "/Library/Frameworks/Python.framework/Versions/3.7/lib/python3.7/site-packages/sklearn/utils/validation.py:761: DataConversionWarning: A column-vector y was passed when a 1d array was expected. Please change the shape of y to (n_samples, ), for example using ravel().\n",
      "  y = column_or_1d(y, warn=True)\n"
     ]
    },
    {
     "name": "stdout",
     "output_type": "stream",
     "text": [
      "Training error 200: 0.2572888888888889\n",
      "Validation error 200: 0.2484\n"
     ]
    },
    {
     "name": "stderr",
     "output_type": "stream",
     "text": [
      "/Library/Frameworks/Python.framework/Versions/3.7/lib/python3.7/site-packages/sklearn/utils/validation.py:761: DataConversionWarning: A column-vector y was passed when a 1d array was expected. Please change the shape of y to (n_samples, ), for example using ravel().\n",
      "  y = column_or_1d(y, warn=True)\n"
     ]
    },
    {
     "name": "stdout",
     "output_type": "stream",
     "text": [
      "Training error 500: 0.2836666666666667\n",
      "Validation error 500: 0.2662\n"
     ]
    },
    {
     "name": "stderr",
     "output_type": "stream",
     "text": [
      "/Library/Frameworks/Python.framework/Versions/3.7/lib/python3.7/site-packages/sklearn/utils/validation.py:761: DataConversionWarning: A column-vector y was passed when a 1d array was expected. Please change the shape of y to (n_samples, ), for example using ravel().\n",
      "  y = column_or_1d(y, warn=True)\n"
     ]
    },
    {
     "name": "stdout",
     "output_type": "stream",
     "text": [
      "Training error 1000: 0.3138888888888889\n",
      "Validation error 1000: 0.3002\n"
     ]
    },
    {
     "name": "stderr",
     "output_type": "stream",
     "text": [
      "/Library/Frameworks/Python.framework/Versions/3.7/lib/python3.7/site-packages/sklearn/utils/validation.py:761: DataConversionWarning: A column-vector y was passed when a 1d array was expected. Please change the shape of y to (n_samples, ), for example using ravel().\n",
      "  y = column_or_1d(y, warn=True)\n"
     ]
    },
    {
     "name": "stdout",
     "output_type": "stream",
     "text": [
      "Training error 2000: 0.32866666666666666\n",
      "Validation error 2000: 0.2932\n"
     ]
    },
    {
     "name": "stderr",
     "output_type": "stream",
     "text": [
      "/Library/Frameworks/Python.framework/Versions/3.7/lib/python3.7/site-packages/sklearn/utils/validation.py:761: DataConversionWarning: A column-vector y was passed when a 1d array was expected. Please change the shape of y to (n_samples, ), for example using ravel().\n",
      "  y = column_or_1d(y, warn=True)\n"
     ]
    },
    {
     "name": "stdout",
     "output_type": "stream",
     "text": [
      "Training error 5000: 0.3735111111111111\n",
      "Validation error 5000: 0.2968\n"
     ]
    },
    {
     "data": {
      "image/png": "[encoded data removed]",
      "text/plain": [
       "<Figure size 432x288 with 2 Axes>"
      ]
     },
     "metadata": {
      "needs_background": "light"
     },
     "output_type": "display_data"
    }
   ],
   "source": [
    "# c) cifar-10 dataset, use raw pixels as features w/ 100, 200, 500, 1000, 2000, 5000\n",
    "train_scores = []\n",
    "valid_scores = []\n",
    "n_list = [100,200,500,1000,2000,5000]\n",
    "for n in n_list:\n",
    "    train_model = svm.SVC(kernel = 'linear')\n",
    "    train_model.fit(cifar10_data['training_data'][:n], cifar10_data['training_labels'][:n])\n",
    "    pred_train_labels = train_model.predict(cifar10_data['training_data'])\n",
    "    pred_valid_labels = train_model.predict(cifar10_data['validation_data'])\n",
    "    train_score = accuracy_score(cifar10_data['training_labels'], pred_train_labels)\n",
    "    valid_score = accuracy_score(cifar10_data['validation_labels'], pred_valid_labels)\n",
    "    print('Training error ' + str(n) + ': '+ str(train_score))\n",
    "    print('Validation error ' + str(n) + ': ' + str(valid_score))\n",
    "    train_scores.append(train_score)\n",
    "    valid_scores.append(valid_score)\n",
    "fig, (ax1, ax2) = plt.subplots(1, 2, sharey = True)\n",
    "ax1.plot(n_list, train_scores)\n",
    "ax1.set_title('Train_scores vs. n for Cifar10')\n",
    "ax2.plot(n_list, valid_scores)\n",
    "ax2.set_title('Valid_scores vs. n for Cifar10');"
   ]
  },
  {
   "cell_type": "code",
   "execution_count": null,
   "metadata": {
    "scrolled": false
   },
   "outputs": [
    {
     "name": "stderr",
     "output_type": "stream",
     "text": [
      "/Library/Frameworks/Python.framework/Versions/3.7/lib/python3.7/site-packages/sklearn/utils/validation.py:761: DataConversionWarning: A column-vector y was passed when a 1d array was expected. Please change the shape of y to (n_samples, ), for example using ravel().\n",
      "  y = column_or_1d(y, warn=True)\n"
     ]
    }
   ],
   "source": [
    "#4 Hyperparameter Tuning\n",
    "# a) for the MNIST dataset, find the best C value. List the C values and train to up to 10000\n",
    "#the non-extreme values showed no changed therefore testing more extremes\n",
    "c_values = [.0000001,.000001,.00001,10000,100000, 1000000]\n",
    "for c in c_values:\n",
    "    train_model = svm.SVC(C = c, kernel = 'linear')\n",
    "    train_model.fit(mnist_data['training_data'][:10000], mnist_data['training_labels'][:10000])\n",
    "    pred_train_labels = train_model.predict(mnist_data['training_data'])\n",
    "    pred_valid_labels = train_model.predict(mnist_data['validation_data'])\n",
    "    train_score = accuracy_score(mnist_data['training_labels'], pred_train_labels)\n",
    "    valid_score = accuracy_score(mnist_data['validation_labels'], pred_valid_labels)\n",
    "    print('Training error w/ C =' + str(c) + ': '+ str(train_score))\n",
    "    print('Validation error w/ C =' + str(c) + ': ' + str(valid_score))\n",
    "    train_scores.append(train_score)\n",
    "    valid_scores.append(valid_score)"
   ]
  },
  {
   "cell_type": "code",
   "execution_count": null,
   "metadata": {},
   "outputs": [
    {
     "name": "stderr",
     "output_type": "stream",
     "text": [
      "/Library/Frameworks/Python.framework/Versions/3.7/lib/python3.7/site-packages/sklearn/utils/validation.py:761: DataConversionWarning: A column-vector y was passed when a 1d array was expected. Please change the shape of y to (n_samples, ), for example using ravel().\n",
      "  y = column_or_1d(y, warn=True)\n"
     ]
    }
   ],
   "source": [
    "# 5. K-Fold Cross Validation\n",
    "# a) For the Spam Dataset use 5-fold Cross Validation to find and report the best C-values\n",
    "#first shuffle and split the data\n",
    "spam_shuffled = shuffle(spam_data)\n",
    "split_data = np.array_split(spam_shuffled, 5)\n",
    "c_values = [1000]\n",
    "scores = []\n",
    "for c in c_values:\n",
    "    c_scores = []\n",
    "    for i in range(5):\n",
    "        validation_spam = split_data[i]\n",
    "        training_spam = np.vstack((split_data[:i]+split_data[i+1:]))\n",
    "        \n",
    "        spam_data['training_dataCV'] = [elem[1] for elem in training_spam]\n",
    "        spam_data['validation_dataCV'] = [elem[1] for elem in validation_spam]\n",
    "        spam_data['training_labelsCV'] = [elem[0] for elem in training_spam]\n",
    "        spam_data['validation_labelsCV'] = [elem[0] for elem in validation_spam]\n",
    "        \n",
    "        train_model = svm.SVC(C = c, kernel = 'linear')\n",
    "        train_model.fit(spam_data['training_dataCV'], spam_data['training_labelsCV'])\n",
    "        pred_valid_labels = train_model.predict(spam_data['validation_dataCV'])\n",
    "        valid_score = accuracy_score(spam_data['validation_labelsCV'], pred_valid_labels)\n",
    "        print(valid_score)\n",
    "        c_scores.append(valid_score)\n",
    "        \n",
    "    c_score_avg = sum(c_scores)/5\n",
    "    scores.append(sum(c_scores)/5)\n",
    "    print('Cross-Validation w/ c= ' + str(c) + ':'  + str(c_score_avg))\n",
    "        \n",
    "\n"
   ]
  },
  {
   "cell_type": "code",
   "execution_count": 11,
   "metadata": {},
   "outputs": [
    {
     "name": "stderr",
     "output_type": "stream",
     "text": [
      "/Library/Frameworks/Python.framework/Versions/3.7/lib/python3.7/site-packages/sklearn/utils/validation.py:761: DataConversionWarning: A column-vector y was passed when a 1d array was expected. Please change the shape of y to (n_samples, ), for example using ravel().\n",
      "  y = column_or_1d(y, warn=True)\n",
      "/Library/Frameworks/Python.framework/Versions/3.7/lib/python3.7/site-packages/sklearn/utils/validation.py:761: DataConversionWarning: A column-vector y was passed when a 1d array was expected. Please change the shape of y to (n_samples, ), for example using ravel().\n",
      "  y = column_or_1d(y, warn=True)\n",
      "/Library/Frameworks/Python.framework/Versions/3.7/lib/python3.7/site-packages/sklearn/utils/validation.py:761: DataConversionWarning: A column-vector y was passed when a 1d array was expected. Please change the shape of y to (n_samples, ), for example using ravel().\n",
      "  y = column_or_1d(y, warn=True)\n"
     ]
    }
   ],
   "source": [
    "#6 Kaggle \n",
    "train_model = svm.SVC(C = 10, kernel = 'linear')\n",
    "train_model.fit(spam_data['training_dataMod'][:2000], spam_data['training_labelsMod'][:2000])\n",
    "test_predictions_spam = train_model.predict(spam_data['test_data'])\n",
    "\n",
    "def results_to_csv(y_test):\n",
    "    y_test = y_test.astype(int)\n",
    "    df = pd.DataFrame({'Category': y_test})\n",
    "    df.index += 1  # Ensures that the index starts at 1. \n",
    "    df.to_csv('submission.csv', index_label='Id')\n",
    "\n",
    "\n",
    "train_model = svm.SVC(C = .000001, kernel = 'linear')\n",
    "train_model.fit(mnist_data['training_data'][:10000], mnist_data['training_labels'][:10000])\n",
    "test_predictions_mnist = train_model.predict(mnist_data['test_data'])\n",
    "\n",
    "train_model = svm.SVC(kernel = 'linear')\n",
    "train_model.fit(cifar10_data['training_data'][:1000], cifar10_data['training_labels'][:1000])\n",
    "test_predictions_cifar10 = train_model.predict(cifar10_data['test_data'])\n",
    "\n",
    "results_to_csv(test_predictions_cifar10)\n"
   ]
  },
  {
   "cell_type": "code",
   "execution_count": null,
   "metadata": {},
   "outputs": [],
   "source": []
  }
 ],
 "metadata": {
  "kernelspec": {
   "display_name": "Python 3",
   "language": "python",
   "name": "python3"
  },
  "language_info": {
   "codemirror_mode": {
    "name": "ipython",
    "version": 3
   },
   "file_extension": ".py",
   "mimetype": "text/x-python",
   "name": "python",
   "nbconvert_exporter": "python",
   "pygments_lexer": "ipython3",
   "version": "3.7.2"
  }
 },
 "nbformat": 4,
 "nbformat_minor": 2
}
